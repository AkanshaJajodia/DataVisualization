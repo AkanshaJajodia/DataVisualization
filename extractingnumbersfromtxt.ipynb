{
 "cells": [
  {
   "cell_type": "code",
   "execution_count": 17,
   "metadata": {},
   "outputs": [
    {
     "name": "stdout",
     "output_type": "stream",
     "text": [
      "value of x is ['790', '1609', '419', '1467', '437', '9982', '6880', '260', '7077', '7315', '5832', '9596', '9798', '9232', '3176', '9518', '5427', '3330', '5828', '3057', '4929', '1733', '4167', '6800', '511', '4998', '7264', '7148', '268', '3164', '740', '4305', '8655', '4', '2683', '5891', '935', '1278', '994', '1443', '3989', '8496', '3780', '9681', '7725', '6646', '3703', '4773', '3236', '3674', '5662', '8295', '8382', '4972', '5559', '3344', '9546', '868', '103', '2471', '6336', '1382', '5510', '3612', '1491', '674', '2315', '6284', '9483', '4', '3', '42']\n",
      "310981\n"
     ]
    }
   ],
   "source": [
    "import re\n",
    "\n",
    "lines = open(\"file.txt\")\n",
    "x=list()\n",
    "for line in lines:\n",
    "     y = re.findall('[0-9]+',line)\n",
    "     x = x+y\n",
    "print(\"value of x is\",x)\n",
    "sum=0\n",
    "for z in x:\n",
    "    sum = sum + int(z)\n",
    "\n",
    "print(sum)"
   ]
  },
  {
   "cell_type": "code",
   "execution_count": null,
   "metadata": {},
   "outputs": [],
   "source": []
  }
 ],
 "metadata": {
  "kernelspec": {
   "display_name": "Python 3",
   "language": "python",
   "name": "python3"
  },
  "language_info": {
   "codemirror_mode": {
    "name": "ipython",
    "version": 3
   },
   "file_extension": ".py",
   "mimetype": "text/x-python",
   "name": "python",
   "nbconvert_exporter": "python",
   "pygments_lexer": "ipython3",
   "version": "3.7.4"
  }
 },
 "nbformat": 4,
 "nbformat_minor": 4
}
